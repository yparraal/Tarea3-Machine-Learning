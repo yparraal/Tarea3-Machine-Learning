{
 "cells": [
  {
   "cell_type": "code",
   "execution_count": 3,
   "id": "857e8e0d-7453-47c8-8f26-6bad4e8f418d",
   "metadata": {},
   "outputs": [
    {
     "name": "stdout",
     "output_type": "stream",
     "text": [
      "   age  sex  cp  trestbps  chol  fbs  restecg  thalach  exang  oldpeak  slope  \\\n",
      "0   69    1   0       160   234    1        2      131      0      0.1      1   \n",
      "1   69    0   0       140   239    0        0      151      0      1.8      0   \n",
      "2   66    0   0       150   226    0        0      114      0      2.6      2   \n",
      "3   65    1   0       138   282    1        2      174      0      1.4      1   \n",
      "4   64    1   0       110   211    0        2      144      1      1.8      1   \n",
      "\n",
      "   ca  thal  condition  \n",
      "0   1     0          0  \n",
      "1   2     0          0  \n",
      "2   0     0          0  \n",
      "3   1     0          1  \n",
      "4   0     0          0  \n",
      "<class 'pandas.core.frame.DataFrame'>\n",
      "RangeIndex: 297 entries, 0 to 296\n",
      "Data columns (total 14 columns):\n",
      " #   Column     Non-Null Count  Dtype  \n",
      "---  ------     --------------  -----  \n",
      " 0   age        297 non-null    int64  \n",
      " 1   sex        297 non-null    int64  \n",
      " 2   cp         297 non-null    int64  \n",
      " 3   trestbps   297 non-null    int64  \n",
      " 4   chol       297 non-null    int64  \n",
      " 5   fbs        297 non-null    int64  \n",
      " 6   restecg    297 non-null    int64  \n",
      " 7   thalach    297 non-null    int64  \n",
      " 8   exang      297 non-null    int64  \n",
      " 9   oldpeak    297 non-null    float64\n",
      " 10  slope      297 non-null    int64  \n",
      " 11  ca         297 non-null    int64  \n",
      " 12  thal       297 non-null    int64  \n",
      " 13  condition  297 non-null    int64  \n",
      "dtypes: float64(1), int64(13)\n",
      "memory usage: 32.6 KB\n",
      "None\n"
     ]
    },
    {
     "data": {
      "image/png": "[encoded data removed]",
      "text/plain": [
       "<Figure size 600x400 with 1 Axes>"
      ]
     },
     "metadata": {},
     "output_type": "display_data"
    }
   ],
   "source": [
    "import pandas as pd\n",
    "import seaborn as sns\n",
    "import matplotlib.pyplot as plt\n",
    "\n",
    "# Cargar los datos\n",
    "df = pd.read_csv('heart.csv')\n",
    "\n",
    "# Mostrar las primeras filas\n",
    "print(df.head())\n",
    "\n",
    "# Información general del dataset\n",
    "print(df.info())\n",
    "\n",
    "# Distribución de la variable objetivo\n",
    "plt.figure(figsize=(6,4))\n",
    "sns.countplot(x='condition', data=df)\n",
    "plt.title('Distribución de la variable condición (enfermedad cardíaca)')\n",
    "plt.xlabel('Condición (0 = No enfermedad, 1 = Presencia de enfermedad)')\n",
    "plt.ylabel('Cantidad')\n",
    "plt.show()"
   ]
  },
  {
   "cell_type": "code",
   "execution_count": 5,
   "id": "27e3bbf0-29b4-418f-ad09-d7dadcb765ed",
   "metadata": {},
   "outputs": [
    {
     "name": "stdout",
     "output_type": "stream",
     "text": [
      "Valores nulos por columna:\n",
      " age          0\n",
      "sex          0\n",
      "cp           0\n",
      "trestbps     0\n",
      "chol         0\n",
      "fbs          0\n",
      "restecg      0\n",
      "thalach      0\n",
      "exang        0\n",
      "oldpeak      0\n",
      "slope        0\n",
      "ca           0\n",
      "thal         0\n",
      "condition    0\n",
      "dtype: int64\n",
      "\n",
      "Valores únicos por columna:\n",
      " age           41\n",
      "sex            2\n",
      "cp             4\n",
      "trestbps      50\n",
      "chol         152\n",
      "fbs            2\n",
      "restecg        3\n",
      "thalach       91\n",
      "exang          2\n",
      "oldpeak       40\n",
      "slope          3\n",
      "ca             4\n",
      "thal           3\n",
      "condition      2\n",
      "dtype: int64\n"
     ]
    }
   ],
   "source": [
    "from sklearn.preprocessing import StandardScaler\n",
    "\n",
    "# Revisar valores nulos\n",
    "print(\"Valores nulos por columna:\\n\", df.isnull().sum())\n",
    "\n",
    "# Verificar valores únicos por columna (para identificar categóricas mal codificadas)\n",
    "print(\"\\nValores únicos por columna:\\n\", df.nunique())\n",
    "\n",
    "# Escalamos las variables numéricas\n",
    "X = df.drop('condition', axis=1)\n",
    "y = df['condition']\n",
    "\n",
    "scaler = StandardScaler()\n",
    "X_scaled = scaler.fit_transform(X)\n",
    "\n",
    "# Guardamos los datos escalados en un nuevo DataFrame\n",
    "X_scaled_df = pd.DataFrame(X_scaled, columns=X.columns)\n",
    "X_scaled_df['condition'] = y.values\n",
    "\n",
    "# Guardamos el dataset preprocesado\n",
    "X_scaled_df.to_csv('heart_preprocessed.csv', index=False)"
   ]
  },
  {
   "cell_type": "code",
   "execution_count": 6,
   "id": "93565ff8-8ee8-4d9e-8345-6119b3f5702d",
   "metadata": {},
   "outputs": [
    {
     "name": "stdout",
     "output_type": "stream",
     "text": [
      "Variables independientes:\n",
      " Index(['age', 'sex', 'cp', 'trestbps', 'chol', 'fbs', 'restecg', 'thalach',\n",
      "       'exang', 'oldpeak', 'slope', 'ca', 'thal'],\n",
      "      dtype='object')\n",
      "\n",
      "Variable dependiente:\n",
      " condition\n"
     ]
    }
   ],
   "source": [
    "# Cargar el dataset ya preprocesado\n",
    "df = pd.read_csv('heart_preprocessed.csv')\n",
    "\n",
    "# Variable dependiente (objetivo)\n",
    "y = df['condition']\n",
    "\n",
    "# Variables independientes\n",
    "X = df.drop('condition', axis=1)\n",
    "\n",
    "# Confirmar las variables seleccionadas\n",
    "print(\"Variables independientes:\\n\", X.columns)\n",
    "print(\"\\nVariable dependiente:\\n\", y.name)"
   ]
  },
  {
   "cell_type": "code",
   "execution_count": 7,
   "id": "c612992a-d58e-4579-8f8a-24da651663be",
   "metadata": {},
   "outputs": [
    {
     "name": "stdout",
     "output_type": "stream",
     "text": [
      "Tamaño del conjunto de entrenamiento: (237, 13)\n",
      "Tamaño del conjunto de prueba: (60, 13)\n"
     ]
    }
   ],
   "source": [
    "from sklearn.model_selection import train_test_split\n",
    "\n",
    "# División del dataset: 80% entrenamiento y 20% prueba\n",
    "X_train, X_test, y_train, y_test = train_test_split(\n",
    "    X, y, test_size=0.2, random_state=42, stratify=y\n",
    ")\n",
    "\n",
    "# Confirmar dimensiones\n",
    "print(\"Tamaño del conjunto de entrenamiento:\", X_train.shape)\n",
    "print(\"Tamaño del conjunto de prueba:\", X_test.shape)"
   ]
  },
  {
   "cell_type": "code",
   "execution_count": 8,
   "id": "bf09d9d9-1d72-4cc0-9fe8-716a68db00f8",
   "metadata": {},
   "outputs": [
    {
     "name": "stdout",
     "output_type": "stream",
     "text": [
      "Precisión en entrenamiento: 0.8481012658227848\n"
     ]
    }
   ],
   "source": [
    "from sklearn.linear_model import LogisticRegression\n",
    "\n",
    "# Inicializar y entrenar el modelo\n",
    "modelo_logistico = LogisticRegression(max_iter=1000)\n",
    "modelo_logistico.fit(X_train, y_train)\n",
    "\n",
    "# Verificar el score de entrenamiento\n",
    "score_entrenamiento = modelo_logistico.score(X_train, y_train)\n",
    "print(\"Precisión en entrenamiento:\", score_entrenamiento)"
   ]
  },
  {
   "cell_type": "code",
   "execution_count": 9,
   "id": "11726ac3-2bd2-4bf8-92f3-7f35e1a9a1ed",
   "metadata": {},
   "outputs": [
    {
     "name": "stdout",
     "output_type": "stream",
     "text": [
      "Matriz de confusión:\n",
      " [[32  0]\n",
      " [ 5 23]]\n",
      "\n",
      "Reporte de clasificación:\n",
      "               precision    recall  f1-score   support\n",
      "\n",
      "           0       0.86      1.00      0.93        32\n",
      "           1       1.00      0.82      0.90        28\n",
      "\n",
      "    accuracy                           0.92        60\n",
      "   macro avg       0.93      0.91      0.91        60\n",
      "weighted avg       0.93      0.92      0.92        60\n",
      "\n",
      "Precisión general (accuracy): 0.9166666666666666\n"
     ]
    }
   ],
   "source": [
    "from sklearn.metrics import classification_report, confusion_matrix, accuracy_score\n",
    "\n",
    "# Predicciones sobre el conjunto de prueba\n",
    "y_pred = modelo_logistico.predict(X_test)\n",
    "\n",
    "# Métricas de evaluación\n",
    "print(\"Matriz de confusión:\\n\", confusion_matrix(y_test, y_pred))\n",
    "print(\"\\nReporte de clasificación:\\n\", classification_report(y_test, y_pred))\n",
    "print(\"Precisión general (accuracy):\", accuracy_score(y_test, y_pred))"
   ]
  },
  {
   "cell_type": "code",
   "execution_count": 10,
   "id": "3db29646-48ab-48cd-812a-cad2322bbee2",
   "metadata": {},
   "outputs": [
    {
     "data": {
      "image/png": "[encoded data removed]",
      "text/plain": [
       "<Figure size 640x480 with 2 Axes>"
      ]
     },
     "metadata": {},
     "output_type": "display_data"
    }
   ],
   "source": [
    "import seaborn as sns\n",
    "import matplotlib.pyplot as plt\n",
    "from sklearn.metrics import ConfusionMatrixDisplay\n",
    "\n",
    "# Mostrar la matriz de confusión como gráfico\n",
    "ConfusionMatrixDisplay.from_estimator(modelo_logistico, X_test, y_test, cmap='Blues')\n",
    "plt.title(\"Matriz de Confusión del Modelo de Regresión Logística\")\n",
    "plt.show()"
   ]
  },
  {
   "cell_type": "code",
   "execution_count": null,
   "id": "0e34d113-665f-4105-b3b1-d227bed51b2d",
   "metadata": {},
   "outputs": [],
   "source": []
  }
 ],
 "metadata": {
  "kernelspec": {
   "display_name": "Python 3 (ipykernel)",
   "language": "python",
   "name": "python3"
  },
  "language_info": {
   "codemirror_mode": {
    "name": "ipython",
    "version": 3
   },
   "file_extension": ".py",
   "mimetype": "text/x-python",
   "name": "python",
   "nbconvert_exporter": "python",
   "pygments_lexer": "ipython3",
   "version": "3.13.3"
  }
 },
 "nbformat": 4,
 "nbformat_minor": 5
}
